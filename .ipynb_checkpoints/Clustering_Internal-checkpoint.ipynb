{
 "cells": [
  {
   "cell_type": "code",
   "execution_count": 2,
   "metadata": {},
   "outputs": [],
   "source": [
    "%matplotlib inline\n",
    "import pandas as pd\n",
    "from matplotlib import pyplot as plt\n",
    "pd.options.display.max_columns = 100\n",
    "import matplotlib\n",
    "matplotlib.style.use('ggplot')\n",
    "import numpy as np\n",
    "pd.options.display.max_rows = 100\n",
    "from itertools import islice\n",
    "import urllib2\n",
    "from bs4 import BeautifulSoup\n",
    "import re\n",
    "from nltk.stem.snowball import SnowballStemmer\n",
    "from nltk.corpus import stopwords\n",
    "from DatumBox import DatumBox\n",
    "import re\n",
    "from urlparse import urlparse\n",
    "import seaborn as sns # To have more than seven colors in pie diagram\n",
    "import plotly.plotly as py # For Gantt Chart\n",
    "import plotly.figure_factory as ff # For Gantt Chart\n",
    "import sklearn"
   ]
  },
  {
   "cell_type": "code",
   "execution_count": 3,
   "metadata": {},
   "outputs": [
    {
     "name": "stdout",
     "output_type": "stream",
     "text": [
      "[nltk_data] Downloading package punkt to\n",
      "[nltk_data]     /home/sreeram_0xb5e/nltk_data...\n",
      "[nltk_data]   Package punkt is already up-to-date!\n"
     ]
    }
   ],
   "source": [
    "import urllib\n",
    "from bs4 import BeautifulSoup\n",
    "import csv\n",
    "import urllib2\n",
    "import re\n",
    "import string\n",
    "from nltk.stem.snowball import SnowballStemmer\n",
    "from nltk.corpus import wordnet\n",
    "from itertools import chain\n",
    "from nltk.corpus import stopwords\n",
    "from DatumBox import DatumBox\n",
    "import nltk\n",
    "from sklearn.feature_extraction.text import TfidfVectorizer\n",
    "import os.path as osp\n",
    "import os\n",
    "datum_box = DatumBox(\"2a13913dda346761765020c1f66e34f8\")\n",
    "TAG_RE = re.compile(r\"<[^>]+>\")\n",
    "nltk.download('punkt')\n",
    "stemmer = nltk.stem.porter.PorterStemmer()\n",
    "remove_punctuation_map = dict((ord(char), None) for char in string.punctuation)\n",
    "cachedStopWords = stopwords.words(\"english\")\n",
    "\n",
    "def remove_tags(text):\n",
    "    return TAG_RE.sub('', text)\n",
    "\n",
    "def stem_tokens(tokens):\n",
    "    return [stemmer.stem(item) for item in tokens]\n",
    "\n",
    "'''remove punctuation, lowercase, stem'''\n",
    "def normalize(text):\n",
    "    return stem_tokens(nltk.word_tokenize(text.lower().translate(remove_punctuation_map)))\n",
    "\n",
    "vectorizer = TfidfVectorizer(tokenizer=normalize, stop_words='english')\n",
    "\n",
    "def cosine_sim(text1, text2):\n",
    "    tfidf = vectorizer.fit_transform([text1, text2])\n",
    "    return ((tfidf * tfidf.T).A)[0,1]\n",
    "\n",
    "def main_text(url):\n",
    "    file_name = url.replace('/','#')\n",
    "    if len(file_name) <= 255:\n",
    "        #If the file is already there\n",
    "        if osp.isfile(os.path.abspath(os.curdir)+\"/Websites/\"+file_name):\n",
    "            f = open(os.path.abspath(os.curdir)+\"/Websites/\"+file_name,'r')\n",
    "            #text contains the text from a webpage that are stored locally\n",
    "            text = f.read()\n",
    "            f.close()\n",
    "        #If the file isnt there then text is extracted with beautiful soup and stored locally\n",
    "        else:\n",
    "            html = urllib.urlopen(url).read()\n",
    "            soup = BeautifulSoup(html,\"html.parser\")\n",
    "\n",
    "            # kill all script and style elements\n",
    "            for script in soup([\"script\", \"style\"]):\n",
    "                script.extract()    # rip it out\n",
    "\n",
    "            # get text\n",
    "            text = soup.get_text()\n",
    "\n",
    "            # break into lines and remove leading and trailing space on each\n",
    "            lines = (line.strip() for line in text.splitlines())\n",
    "            # break multi-headlines into a line each\n",
    "            chunks = (phrase.strip() for line in lines for phrase in line.split(\"  \"))\n",
    "            # drop blank lines\n",
    "            text = '\\n'.join(chunk for chunk in chunks if chunk)\n",
    "            text = ' '.join([word for word in text.split() if word not in cachedStopWords])\n",
    "            for char in text:\n",
    "                if(not((ord(char) >= 97 and ord(char) <= 122) or (ord(char) >= 65 and ord(char) <= 90))):\n",
    "                    text = text.replace (char,\" \")\n",
    "            f = open(os.path.abspath(os.curdir)+'/Websites/'+file_name,'w')\n",
    "            f.write(text)\n",
    "            f.close()\n",
    "            print \"/Seen First Time/\",\n",
    "    else:\n",
    "        html = urllib.urlopen(url).read()\n",
    "        soup = BeautifulSoup(html,\"html.parser\")\n",
    "        print \"/Cant save in file/\",\n",
    "        # kill all script and style elements\n",
    "        for script in soup([\"script\", \"style\"]):\n",
    "            script.extract()    # rip it out\n",
    "\n",
    "        # get text\n",
    "        text = soup.get_text()\n",
    "\n",
    "        # break into lines and remove leading and trailing space on each\n",
    "        lines = (line.strip() for line in text.splitlines())\n",
    "        # break multi-headlines into a line each\n",
    "        chunks = (phrase.strip() for line in lines for phrase in line.split(\"  \"))\n",
    "        # drop blank lines\n",
    "        text = '\\n'.join(chunk for chunk in chunks if chunk)\n",
    "        text = ' '.join([word for word in text.split() if word not in cachedStopWords])\n",
    "        for char in text:\n",
    "            if(not((ord(char) >= 97 and ord(char) <= 122) or (ord(char) >= 65 and ord(char) <= 90))):\n",
    "                text = text.replace (char,\" \")\n",
    "    return text\n",
    "\n",
    "def openfile(f):\n",
    "    x = []\n",
    "    y = []\n",
    "    finial = []; i=2\n",
    "    csvfile = open(f,'rb')\n",
    "    reader = csv.DictReader(csvfile)\n",
    "    text1='';text2='';text1_main='';text2_main=''\n",
    "    synonyms=None\n",
    "    for row in reader:\n",
    "        synonyms=None\n",
    "        if i==0:\n",
    "            print str(round(cosine_sim(text1,text2),2))+ \"      \" +str(round(cosine_sim(text1_main,text2_main),2))\n",
    "            i=2\n",
    "            text1='';text1_main=''\n",
    "            text2='';text2_main=''\n",
    "        elif i==1:\n",
    "            text1 = main_text(row['url'])\n",
    "            text1_main = text1 + ' '\n",
    "            for j in text1.split(' '):\n",
    "                synonyms = wordnet.synsets(j)\n",
    "                synonyms = set(chain.from_iterable([word.lemma_names() for word in synonyms]))\n",
    "                for k in synonyms:\n",
    "                    text1_main += k + ' '\n",
    "            i-=1\n",
    "        elif i==2:\n",
    "            text2 = main_text(row['url'])\n",
    "            text2_main = text2 + ' '\n",
    "            for j in text2.split(' '):\n",
    "                synonyms = wordnet.synsets(j)\n",
    "                synonyms = set(chain.from_iterable([word.lemma_names() for word in synonyms]))\n",
    "                for k in synonyms:\n",
    "                    text2_main += k + ' '\n",
    "            i-=1\n",
    "    print a\n",
    "    csvfile.close()\n",
    "\n",
    "#openfile('/home/chaitanya/Documents/Codes/IR_Vidhya mam/resources/input/10.csv')"
   ]
  },
  {
   "cell_type": "code",
   "execution_count": 4,
   "metadata": {
    "collapsed": true
   },
   "outputs": [],
   "source": [
    "def wordnet_similarity(a,b):\n",
    "    url1 = a\n",
    "    url2 = b\n",
    "    text1='';text2='';text1_main='';text2_main=''\n",
    "    text1 = main_text(url1)\n",
    "    text2 = main_text(url2)\n",
    "    word_count = 0;similar = 0\n",
    "    text1_split = text1.split(' ');text2_split = text2.split(' ')\n",
    "    text1_split = [x.upper() for x in text1_split if x]\n",
    "    text2_split = [x.upper() for x in text2_split if x]\n",
    "    similar = 0.0;word_count = 0.0;flag=0\n",
    "    \n",
    "    for j in text1_split:\n",
    "        flag = 0\n",
    "        if j not in text2_split:\n",
    "            synonyms = wordnet.synsets(j)\n",
    "            synonyms = set(chain.from_iterable([word.lemma_names() for word in synonyms]))\n",
    "            for k in synonyms:\n",
    "                if k in text2_split:\n",
    "                    flag = 1\n",
    "        else:\n",
    "            similar += 1\n",
    "        if flag == 1:\n",
    "            similar += 1\n",
    "        word_count += 1\n",
    "\n",
    "    for j in text2_split:\n",
    "        flag = 0\n",
    "        if j not in text1_split:\n",
    "            synonyms = wordnet.synsets(j)\n",
    "            synonyms = set(chain.from_iterable([word.lemma_names() for word in synonyms]))\n",
    "            for k in synonyms:\n",
    "                if k in text1_split:\n",
    "                    flag = 1\n",
    "        else:\n",
    "            similar += 1\n",
    "        if flag == 1:\n",
    "            similar += 1\n",
    "        word_count += 1\n",
    "\n",
    "    #text2_main += k + ' '\n",
    "    if word_count == 0:\n",
    "        return 0\n",
    "    return similar/word_count\n"
   ]
  },
  {
   "cell_type": "code",
   "execution_count": 5,
   "metadata": {},
   "outputs": [
    {
     "name": "stdout",
     "output_type": "stream",
     "text": [
      "212\n"
     ]
    }
   ],
   "source": [
    "disp_data= pd.read_csv('internal_cache.csv')\n",
    "#disp_data.head()\n",
    "print len(disp_data)"
   ]
  },
  {
   "cell_type": "code",
   "execution_count": 6,
   "metadata": {
    "collapsed": true
   },
   "outputs": [],
   "source": [
    "#disp_data = disp_data[disp_data.url != *'google'*]\n",
    "#disp_data[]\n",
    "#df[df.line_race != 0]\n",
    "disp_data = disp_data[~disp_data[\"url\"].str.contains(\"google\")]\n",
    "disp_data = disp_data[~disp_data[\"url\"].str.contains(\"home\")]\n",
    "#for i in disp_data['url']:\n",
    "#    print i,"
   ]
  },
  {
   "cell_type": "code",
   "execution_count": 7,
   "metadata": {},
   "outputs": [
    {
     "name": "stdout",
     "output_type": "stream",
     "text": [
      "134\n"
     ]
    }
   ],
   "source": [
    "print len(disp_data)"
   ]
  },
  {
   "cell_type": "code",
   "execution_count": 8,
   "metadata": {
    "collapsed": true,
    "scrolled": true
   },
   "outputs": [],
   "source": [
    "i_range = 100\n",
    "j_range = 130\n",
    "disp_data\n",
    "test_sample = disp_data[i_range:j_range]"
   ]
  },
  {
   "cell_type": "markdown",
   "metadata": {},
   "source": [
    "<h1 style=\"color:red\">CLUSTERING </h1>"
   ]
  },
  {
   "cell_type": "code",
   "execution_count": 9,
   "metadata": {
    "collapsed": true
   },
   "outputs": [],
   "source": [
    "def url_sim(url1,url2):\n",
    "        return wordnet_similarity(url1,url2)"
   ]
  },
  {
   "cell_type": "code",
   "execution_count": null,
   "metadata": {
    "scrolled": false
   },
   "outputs": [
    {
     "name": "stdout",
     "output_type": "stream",
     "text": [
      "101 102 103 104 105 106 107"
     ]
    }
   ],
   "source": [
    "clusters = []\n",
    "temp = []\n",
    "thres = 0.32\n",
    "\n",
    "for i in range(i_range,j_range):\n",
    "    curr_url = disp_data.iloc[i]['url']\n",
    "    \n",
    "    if (len(clusters) == 0):\n",
    "        temp.append(curr_url)\n",
    "        clusters.append(temp)\n",
    "        \n",
    "    if(len(clusters) > 0):\n",
    "        c_indx = 0\n",
    "        max_sim = 0\n",
    "        for c in range(0,len(clusters)):\n",
    "            count = 0\n",
    "            min_lim = url_sim(clusters[c][0],curr_url)\n",
    "            max_lim = url_sim(clusters[c][len(clusters[c])-1],curr_url)\n",
    "            if (min_lim > thres or max_lim > thres):\n",
    "                greatest_lim = max(min_lim,max_lim)\n",
    "                if (greatest_lim > max_sim):\n",
    "                    max_sim = greatest_lim\n",
    "                    c_indx = c\n",
    "        \n",
    "        if(max_sim > thres):\n",
    "            clusters[c_indx].append(curr_url)\n",
    "        else:\n",
    "            tmp = []\n",
    "            tmp.append(curr_url)\n",
    "            clusters.append(tmp)\n",
    "    print i+1,"
   ]
  },
  {
   "cell_type": "code",
   "execution_count": 12,
   "metadata": {},
   "outputs": [
    {
     "name": "stdout",
     "output_type": "stream",
     "text": [
      "['http://citeseerx.ist.psu.edu/viewdoc/similar?doi=10.1.1.130.8327&type=sc', 'http://citeseerx.ist.psu.edu/viewdoc/similar?doi=10.1.1.130.8327&type=sc', 'http://citeseerx.ist.psu.edu/viewdoc/summary?doi=10.1.1.107.2790&rank=1', 'http://citeseerx.ist.psu.edu/viewdoc/summary?doi=10.1.1.35.5874&rank=2', 'http://citeseerx.ist.psu.edu/viewdoc/summary?doi=10.1.1.78.8384&rank=3']\n",
      "\n",
      "['http://citeseerx.ist.psu.edu/viewdoc/download?doi=10.1.1.107.2790&rep=rep1&type=pdf', 'http://citeseerx.ist.psu.edu/search?q=Toward+the+next+generation+of+recommender+systems%3A+a+survey+of+the+state-of-the-art+and+possible+extensions&submit.x=0&submit.y=0&submit=Search&sort=rlv&t=doc', 'http://citeseerx.ist.psu.edu/viewdoc/summary?doi=10.1.1.122.7063&rank=4', 'http://citeseerx.ist.psu.edu/viewdoc/summary?doi=10.1.1.227.497&rank=5', 'http://citeseerx.ist.psu.edu/viewdoc/download?doi=10.1.1.35.5874&rep=rep1&type=pdf', 'http://citeseerx.ist.psu.edu/viewdoc/download?doi=10.1.1.78.8384&rep=rep1&type=pdf', 'http://citeseerx.ist.psu.edu/viewdoc/download?doi=10.1.1.122.7063&rep=rep1&type=pdf', 'http://citeseerx.ist.psu.edu/viewdoc/download?doi=10.1.1.227.497&rep=rep1&type=pdf', 'http://ai2-website.s3.amazonaws.com/publications/JCDL2017.pdf', 'https://www.youtube.com/', 'https://www.youtube.com/results?search_query=engae+enadhu+kavithai+with+lyrics', 'https://www.youtube.com/watch?v=XkoVCqsi7dk', 'https://www.youtube.com/results?search_query=semmozhi+tamil+anthem+ar.rahman+hd', 'http://ai2-website.s3.amazonaws.com/publications/Word-Entity-Duet-Representation-for-Document-Ranking.pdf', 'http://ai2-website.s3.amazonaws.com/publications/ai2-system-semeval.pdf', 'http://ai2-website.s3.amazonaws.com/publications/semi-supervised-sequence.pdf']\n",
      "\n",
      "['http://allenai.org/', 'http://allenai.org/papers/index.html']\n",
      "\n",
      "['http://allenai.org/papers/papers.html#s2']\n",
      "\n",
      "['https://en.wikipedia.org/wiki/Semantic_Scholar']\n",
      "\n",
      "['https://www.youtube.com/watch?v=7c_CKSk1EEA', 'https://www.youtube.com/watch?v=07UcGa4vZxI', 'https://www.youtube.com/watch?v=lRITPjraXgA', 'https://www.youtube.com/watch?v=SXfDRK60dSA', 'https://www.youtube.com/watch?v=iiVANEoXeLY']\n",
      "\n",
      "['http://trec.nist.gov/data/webmain.html']\n",
      "\n",
      "7\n"
     ]
    }
   ],
   "source": [
    "for i in clusters:\n",
    "    print i\n",
    "    print\n",
    "print len(clusters)"
   ]
  },
  {
   "cell_type": "code",
   "execution_count": 30,
   "metadata": {
    "scrolled": false,
    "slideshow": {
     "slide_type": "-"
    }
   },
   "outputs": [
    {
     "data": {
      "image/png": "[encoded data removed]",
      "text/plain": [
       "<matplotlib.figure.Figure at 0x7ff8739225d0>"
      ]
     },
     "metadata": {},
     "output_type": "display_data"
    },
    {
     "name": "stdout",
     "output_type": "stream",
     "text": [
      "[0, 1, 0, 1, 0, 0, 1, 1, 1, 1, 1, 1, 2, 2, 3, 1, 4, 1, 1, 1, 1, 1, 5, 5, 5, 6, 1, 5, 1, 5]\n"
     ]
    }
   ],
   "source": [
    "colors = ['aqua','azure','beige','blue','brown','chartreuse','chocolate','coral','crimson','cyan','darkblue',\n",
    "          'darkgreen','goldenrod','green','grey','olive','orange','orangered','red','yellowgreen','violet',\n",
    "          'salmon','purple','maroon','lime']\n",
    "\n",
    "times = disp_data['timeSpent'][:]\n",
    "times.fillna(0,inplace=True)\n",
    "cluster_no = []\n",
    "for i in range(0,len(disp_data)):\n",
    "    for j in range(len(clusters)):\n",
    "        if disp_data.iloc[i]['url'] in clusters[j]:\n",
    "            cluster_no.append(j)\n",
    "\n",
    "figure = plt.figure(figsize=(15,8))\n",
    "p = plt.bar(range(len(disp_data)), height= times,width=1)\n",
    "\n",
    "for i in range(len(cluster_no)):\n",
    "    p.patches[i].set_color(colors[cluster_no[i]])\n",
    "\n",
    "plt.show()\n",
    "\n",
    "print cluster_no\n"
   ]
  }
 ],
 "metadata": {
  "kernelspec": {
   "display_name": "Python 2",
   "language": "python",
   "name": "python2"
  },
  "language_info": {
   "codemirror_mode": {
    "name": "ipython",
    "version": 2
   },
   "file_extension": ".py",
   "mimetype": "text/x-python",
   "name": "python",
   "nbconvert_exporter": "python",
   "pygments_lexer": "ipython2",
   "version": "2.7.13"
  }
 },
 "nbformat": 4,
 "nbformat_minor": 2
}
